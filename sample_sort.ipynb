{
 "cells": [
  {
   "cell_type": "markdown",
   "metadata": {},
   "source": [
    "### Import and audio directory"
   ]
  },
  {
   "cell_type": "code",
   "execution_count": 27,
   "metadata": {},
   "outputs": [],
   "source": [
    "import librosa\n",
    "import os\n",
    "\n",
    "# Specify your audio sample folder path\n",
    "audio_folder = \"sample_input\""
   ]
  },
  {
   "cell_type": "markdown",
   "metadata": {},
   "source": [
    "following chunk misunderstands `librosa.feature()` call"
   ]
  },
  {
   "cell_type": "code",
   "execution_count": 28,
   "metadata": {},
   "outputs": [],
   "source": [
    "# Define features to extract (adjust as needed)\n",
    "# features = [\"spectral_centroid\", \"chroma_stft\"]"
   ]
  },
  {
   "cell_type": "markdown",
   "metadata": {},
   "source": [
    "### find audio files in folder and list them (currently just one)"
   ]
  },
  {
   "cell_type": "code",
   "execution_count": 29,
   "metadata": {},
   "outputs": [
    {
     "name": "stdout",
     "output_type": "stream",
     "text": [
      "sample_input/synth-guitar-mellow-loop_80bpm_D_minor.wav\n"
     ]
    }
   ],
   "source": [
    "# Iterate through audio files\n",
    "for filename in os.listdir(audio_folder):\n",
    "    \n",
    "    if filename.endswith(\".wav\") or filename.endswith(\".mp3\"): # look for the right extensions\n",
    "        audiofile = os.path.join(audio_folder, filename) # store full path to file\n",
    "        print(audiofile) # tell us which file was found"
   ]
  },
  {
   "cell_type": "markdown",
   "metadata": {},
   "source": [
    "### load the audiofile and store it as an np.array `y` and its samplerate `sr`"
   ]
  },
  {
   "cell_type": "code",
   "execution_count": 16,
   "metadata": {},
   "outputs": [],
   "source": [
    "y, sr = librosa.load(audiofile)"
   ]
  },
  {
   "cell_type": "code",
   "execution_count": 23,
   "metadata": {},
   "outputs": [],
   "source": [
    "# Create dictionary to store features and filenames\n",
    "audio_data = {}\n",
    "\n",
    "# prepare a list to store extracted feature\n",
    "file_features = []\n",
    "\n",
    "# just computing two features and storing them\n",
    "file_features.append(librosa.feature.chroma_stft(y = y))\n",
    "file_features.append(librosa.feature.spectral_contrast(y = y))\n",
    "\n",
    "# Store features and filename\n",
    "audio_data[audiofile] = file_features"
   ]
  },
  {
   "cell_type": "code",
   "execution_count": null,
   "metadata": {},
   "outputs": [],
   "source": [
    "# Define a weighted similarity metric function: a weighted sum of their Euclidean distance and cosine similarity\n",
    "def weighted_similarity(features1, features2, weight_euclidean=0.5, weight_cosine=0.5):\n",
    "    euclidean_dist = similarity_euclidean(features1, features2)\n",
    "    cosine_sim = similarity_cosine(features1, features2)\n",
    "    return weight_euclidean * euclidean_dist + weight_cosine * cosine_sim\n",
    "\n",
    "\n",
    "# Organize files based on similarity\n",
    "clusters = {}\n",
    "for filename1, features1 in audio_data.items():\n",
    "    min_dist = float(\"inf\")\n",
    "    closest_file = None\n",
    "    for filename2, features2 in audio_data.items():\n",
    "        if filename1 != filename2:\n",
    "            dist = similarity(features1, features2)\n",
    "            if dist < min_dist:\n",
    "                min_dist = dist\n",
    "                closest_file = filename2\n",
    "    # Add file to cluster with closest neighbor\n",
    "    if closest_file not in clusters:\n",
    "        clusters[closest_file] = []\n",
    "    clusters[closest_file].append(filename1)\n",
    "\n",
    "# Create new folder structure and move files\n",
    "for cluster_file, filenames in clusters.items():\n",
    "    cluster_name = os.path.splitext(cluster_file)[0]\n",
    "    os.makedirs(os.path.join(\"organized_audio\", cluster_name), exist_ok=True)\n",
    "    for filename in filenames:\n",
    "        source_path = os.path.join(audio_folder, filename)\n",
    "        dest_path = os.path.join(\"organized_audio\", cluster_name, filename)\n",
    "        os.rename(source_path, dest_path)\n",
    "\n",
    "print(\"Audio files organized based on similarity!\")\n"
   ]
  }
 ],
 "metadata": {
  "kernelspec": {
   "display_name": "Python 3",
   "language": "python",
   "name": "python3"
  },
  "language_info": {
   "codemirror_mode": {
    "name": "ipython",
    "version": 3
   },
   "file_extension": ".py",
   "mimetype": "text/x-python",
   "name": "python",
   "nbconvert_exporter": "python",
   "pygments_lexer": "ipython3",
   "version": "3.11.6"
  }
 },
 "nbformat": 4,
 "nbformat_minor": 2
}
